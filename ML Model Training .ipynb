{
 "cells": [
  {
   "cell_type": "code",
   "execution_count": 6,
   "id": "f86b49b1",
   "metadata": {},
   "outputs": [
    {
     "name": "stderr",
     "output_type": "stream",
     "text": [
      "C:\\Users\\Siva\\AppData\\Local\\Temp\\ipykernel_19560\\1830792195.py:12: DtypeWarning: Columns (8,49,50) have mixed types. Specify dtype option on import or set low_memory=False.\n",
      "  df_cars_final = pd.read_csv('All_cities_cleaned_data.csv')\n"
     ]
    },
    {
     "name": "stdout",
     "output_type": "stream",
     "text": [
      "Training Linear Regression...\n"
     ]
    },
    {
     "name": "stderr",
     "output_type": "stream",
     "text": [
      "c:\\Users\\Siva\\miniconda3\\Lib\\site-packages\\sklearn\\model_selection\\_search.py:320: UserWarning: The total space of parameters 1 is smaller than n_iter=10. Running 1 iterations. For exhaustive searches, use GridSearchCV.\n",
      "  warnings.warn(\n"
     ]
    },
    {
     "name": "stdout",
     "output_type": "stream",
     "text": [
      "Best Linear Regression model saved as 'best_linear_regression_model.pkl'\n",
      "Training Decision Tree...\n",
      "Best Decision Tree model saved as 'best_decision_tree_model.pkl'\n",
      "Training XGBoost...\n",
      "Best XGBoost model saved as 'best_xgboost_model.pkl'\n",
      "Training Random Forest...\n",
      "Best Random Forest model saved as 'best_random_forest_model.pkl'\n",
      "Results for Linear Regression:\n",
      "      MSE_train     MAE_train  R2_train  MAPE_train      MSE_test  \\\n",
      "0  5.613861e+09  43649.603862  0.994285    6.486219  3.144243e+13   \n",
      "\n",
      "       MAE_test    R2_test   MAPE_test  \n",
      "0  1.749446e+06 -50.200308  444.532998  \n",
      "Results for Decision Tree:\n",
      "      MSE_train     MAE_train  R2_train  MAPE_train      MSE_test  \\\n",
      "0  1.548877e+10  46726.542768  0.984231     4.72422  1.315525e+11   \n",
      "\n",
      "      MAE_test   R2_test  MAPE_test  \n",
      "0  172043.0839  0.785782  23.213467  \n",
      "Results for XGBoost:\n",
      "      MSE_train    MAE_train  R2_train  MAPE_train      MSE_test  \\\n",
      "0  1.898090e+10  93399.83489  0.980676   14.764995  1.305698e+11   \n",
      "\n",
      "        MAE_test   R2_test  MAPE_test  \n",
      "0  174259.449936  0.787382  21.139777  \n",
      "Results for Random Forest:\n",
      "      MSE_train     MAE_train  R2_train  MAPE_train      MSE_test  \\\n",
      "0  2.197449e+10  58720.780876  0.977628    6.869324  9.608292e+10   \n",
      "\n",
      "        MAE_test  R2_test  MAPE_test  \n",
      "0  151477.313253  0.84354   19.37672  \n"
     ]
    }
   ],
   "source": [
    "import pandas as pd\n",
    "import joblib\n",
    "from sklearn.model_selection import train_test_split, RandomizedSearchCV\n",
    "from sklearn.linear_model import LinearRegression\n",
    "from sklearn.tree import DecisionTreeRegressor\n",
    "from sklearn.ensemble import RandomForestRegressor\n",
    "from xgboost import XGBRegressor\n",
    "from sklearn.metrics import mean_squared_error, mean_absolute_error, r2_score, mean_absolute_percentage_error\n",
    "from sklearn.preprocessing import LabelEncoder\n",
    "\n",
    "# Load the dataset\n",
    "df_cars_final = pd.read_csv('All_cities_cleaned_data.csv')\n",
    "\n",
    "# Limit the dataset to the first 10000 rows (for example)\n",
    "df_cars_final_small = df_cars_final.head(10000)\n",
    "\n",
    "# Remove duplicate rows based on all columns to keep only unique rows\n",
    "df_cars_final_small_unique = df_cars_final_small.drop_duplicates()\n",
    "\n",
    "# Identify categorical and numerical features\n",
    "categorical_features = df_cars_final_small_unique.select_dtypes(include=['object']).columns\n",
    "numerical_features = df_cars_final_small_unique.select_dtypes(include=['number']).columns\n",
    "\n",
    "# Separate the target variable\n",
    "X = df_cars_final_small_unique.drop('price', axis=1)\n",
    "y = df_cars_final_small_unique['price']\n",
    "\n",
    "# Initialize a LabelEncoder\n",
    "label_encoder = LabelEncoder()\n",
    "\n",
    "# Apply Label Encoding to certain categorical features (optional: choose those that have an ordinal relationship)\n",
    "for feature in categorical_features:\n",
    "    if X[feature].nunique() <= 10:\n",
    "        X[feature] = label_encoder.fit_transform(X[feature])\n",
    "\n",
    "# Apply One-Hot Encoding to other categorical features\n",
    "X_encoded = pd.get_dummies(X, columns=[feature for feature in categorical_features if X[feature].nunique() > 10], drop_first=True)\n",
    "\n",
    "# Split the data into training and testing sets without stratification\n",
    "X_train, X_test, y_train, y_test = train_test_split(X_encoded, y, test_size=0.1, random_state=42)\n",
    "\n",
    "# Define the models to use with RandomizedSearchCV\n",
    "models = {\n",
    "    'Linear Regression': LinearRegression(),\n",
    "    'Decision Tree': DecisionTreeRegressor(),\n",
    "    'XGBoost': XGBRegressor(),\n",
    "    'Random Forest': RandomForestRegressor(n_jobs=-1)\n",
    "}\n",
    "\n",
    "# RandomizedSearchCV parameters for each model\n",
    "param_distributions = {\n",
    "    'Linear Regression': {},\n",
    "    'Decision Tree': {\n",
    "        'max_depth': [5, 10, 20],\n",
    "        'min_samples_split': [2, 5, 10],\n",
    "        'min_samples_leaf': [1, 2, 4],\n",
    "    },\n",
    "    'XGBoost': {\n",
    "        'n_estimators': [50, 100, 200],\n",
    "        'max_depth': [3, 5, 10],\n",
    "        'learning_rate': [0.01, 0.05, 0.1],\n",
    "    },\n",
    "    'Random Forest': {\n",
    "        'n_estimators': [50, 100, 200],\n",
    "        'max_depth': [5, 10, 20],\n",
    "        'min_samples_split': [2, 5, 10],\n",
    "    },\n",
    "}\n",
    "\n",
    "# Store the best models\n",
    "best_models = {}\n",
    "\n",
    "# Perform RandomizedSearchCV and save the best models\n",
    "for model_name, model in models.items():\n",
    "    print(f\"Training {model_name}...\")\n",
    "\n",
    "    # Set up RandomizedSearchCV for the current model\n",
    "    random_search = RandomizedSearchCV(model, param_distributions[model_name], n_iter=10, cv=3, random_state=42, n_jobs=-1)\n",
    "    \n",
    "    # Fit the model\n",
    "    random_search.fit(X_train, y_train)\n",
    "\n",
    "    # Save the best model for each type\n",
    "    best_models[model_name] = random_search.best_estimator_\n",
    "\n",
    "    # Save the best model using joblib\n",
    "    joblib.dump(random_search.best_estimator_, f'best_{model_name.lower().replace(\" \", \"_\")}_model.pkl')\n",
    "    print(f\"Best {model_name} model saved as 'best_{model_name.lower().replace(' ', '_')}_model.pkl'\")\n",
    "\n",
    "# Evaluate the best models\n",
    "def evaluate_model(model, X_train, X_test, y_train, y_test, model_name):\n",
    "    # Make predictions\n",
    "    y_train_pred = model.predict(X_train)\n",
    "    y_test_pred = model.predict(X_test)\n",
    "\n",
    "    # Calculate metrics\n",
    "    results = {\n",
    "        'MSE_train': mean_squared_error(y_train, y_train_pred),\n",
    "        'MAE_train': mean_absolute_error(y_train, y_train_pred),\n",
    "        'R2_train': r2_score(y_train, y_train_pred),\n",
    "        'MAPE_train': mean_absolute_percentage_error(y_train, y_train_pred) * 100,\n",
    "        'MSE_test': mean_squared_error(y_test, y_test_pred),\n",
    "        'MAE_test': mean_absolute_error(y_test, y_test_pred),\n",
    "        'R2_test': r2_score(y_test, y_test_pred),\n",
    "        'MAPE_test': mean_absolute_percentage_error(y_test, y_test_pred) * 100\n",
    "    }\n",
    "\n",
    "    print(f\"Results for {model_name}:\")\n",
    "    print(pd.DataFrame(results, index=[0]))\n",
    "\n",
    "# Evaluate all the best models\n",
    "for model_name, model in best_models.items():\n",
    "    evaluate_model(model, X_train, X_test, y_train, y_test, model_name)\n"
   ]
  },
  {
   "cell_type": "code",
   "execution_count": 7,
   "id": "0d18ee78",
   "metadata": {},
   "outputs": [],
   "source": [
    "import pandas as pd\n",
    "\n",
    "# Optionally, you can save the unique rows to a new CSV file\n",
    "df_cars_final_small_unique.to_csv('All_cities_unique_data.csv', index=False)\n"
   ]
  },
  {
   "cell_type": "code",
   "execution_count": 8,
   "id": "394f4ae7",
   "metadata": {},
   "outputs": [
    {
     "name": "stderr",
     "output_type": "stream",
     "text": [
      "C:\\Users\\Siva\\AppData\\Local\\Temp\\ipykernel_19560\\1967102088.py:1: SettingWithCopyWarning: \n",
      "A value is trying to be set on a copy of a slice from a DataFrame.\n",
      "Try using .loc[row_indexer,col_indexer] = value instead\n",
      "\n",
      "See the caveats in the documentation: https://pandas.pydata.org/pandas-docs/stable/user_guide/indexing.html#returning-a-view-versus-a-copy\n",
      "  df_cars_final_small_unique['url_model'] = \"\"\n"
     ]
    }
   ],
   "source": [
    "df_cars_final_small_unique['url_model'] = \"\""
   ]
  },
  {
   "cell_type": "code",
   "execution_count": 9,
   "id": "5017114b",
   "metadata": {},
   "outputs": [
    {
     "data": {
      "text/plain": [
       "array(['Maruti', 'Ford', 'Tata', 'Hyundai', 'Jeep', 'Datsun', 'Honda',\n",
       "       'Mahindra', 'Mercedes-Benz', 'BMW', 'Renault', 'Audi', 'Toyota',\n",
       "       'Mini', 'Kia', 'Skoda', 'Volkswagen', 'Volvo', 'MG', 'Nissan',\n",
       "       'Fiat', 'Mahindra Ssangyong', 'Mitsubishi', 'Jaguar', 'Land Rover',\n",
       "       'Chevrolet', 'Citroen', 'Opel', 'Mahindra Renault'], dtype=object)"
      ]
     },
     "execution_count": 9,
     "metadata": {},
     "output_type": "execute_result"
    }
   ],
   "source": [
    "df_cars_final_small_unique['Original Equipment Manufacturer'].unique()"
   ]
  },
  {
   "cell_type": "code",
   "execution_count": 10,
   "id": "d3c664ce",
   "metadata": {},
   "outputs": [],
   "source": [
    "df_cars_final_small_unique.loc[df_cars_final_small_unique['Original Equipment Manufacturer'] == 'Maruti', 'url_model'] = 'https://logos-world.net/wp-content/uploads/2022/12/Maruti-Suzuki-Logo.png'\n",
    "df_cars_final_small_unique.loc[df_cars_final_small_unique['Original Equipment Manufacturer'] == 'Ford', 'url_model'] = 'https://logos-world.net/wp-content/uploads/2021/05/Ford-Logo.png'\n",
    "df_cars_final_small_unique.loc[df_cars_final_small_unique['Original Equipment Manufacturer'] == 'Tata','url_model'] = 'https://logos-world.net/wp-content/uploads/2021/11/Tata-Logo.png'\n",
    "df_cars_final_small_unique.loc[df_cars_final_small_unique['Original Equipment Manufacturer'] == 'Hyundai','url_model'] = 'https://logos-world.net/wp-content/uploads/2021/03/Hyundai-Logo.png'\n",
    "df_cars_final_small_unique.loc[df_cars_final_small_unique['Original Equipment Manufacturer'] == 'Jeep','url_model'] = 'https://logos-world.net/wp-content/uploads/2021/09/Jeep-Logo.png'\n",
    "df_cars_final_small_unique.loc[df_cars_final_small_unique['Original Equipment Manufacturer'] == 'Honda','url_model'] = 'https://logos-world.net/wp-content/uploads/2021/03/Honda-Logo.png'\n",
    "df_cars_final_small_unique.loc[df_cars_final_small_unique['Original Equipment Manufacturer'] == 'Mahindra','url_model'] = 'https://logos-world.net/wp-content/uploads/2022/12/Mahindra-Logo.png'\n",
    "df_cars_final_small_unique.loc[df_cars_final_small_unique['Original Equipment Manufacturer'] == 'Renault','url_model'] = 'https://logos-world.net/wp-content/uploads/2021/04/Renault-Logo.png'\n",
    "df_cars_final_small_unique.loc[df_cars_final_small_unique['Original Equipment Manufacturer'] == 'Mercedes-Benz','url_model'] = 'https://logos-world.net/wp-content/uploads/2020/05/Mercedes-Benz-Logo.png'\n",
    "df_cars_final_small_unique.loc[df_cars_final_small_unique['Original Equipment Manufacturer'] == 'Kia','url_model'] = 'https://logos-world.net/wp-content/uploads/2021/03/Kia-Logo.png'\n",
    "df_cars_final_small_unique.loc[df_cars_final_small_unique['Original Equipment Manufacturer'] == 'Skoda','url_model'] = 'https://logos-world.net/wp-content/uploads/2021/06/Skoda-logo.png'\n",
    "df_cars_final_small_unique.loc[df_cars_final_small_unique['Original Equipment Manufacturer'] == 'Volkswagen','url_model'] = 'https://logos-world.net/wp-content/uploads/2021/04/Volkswagen-Logo.png'\n",
    "df_cars_final_small_unique.loc[df_cars_final_small_unique['Original Equipment Manufacturer'] == 'MG','url_model'] = 'https://logos-world.net/wp-content/uploads/2021/09/MG-Logo.png'\n",
    "df_cars_final_small_unique.loc[df_cars_final_small_unique['Original Equipment Manufacturer'] == 'Toyota','url_model'] = 'https://logos-world.net/wp-content/uploads/2020/04/Toyota-Logo.png'\n",
    "df_cars_final_small_unique.loc[df_cars_final_small_unique['Original Equipment Manufacturer'] == 'Audi','url_model'] = 'https://logos-world.net/wp-content/uploads/2021/03/Audi-Logo.png'\n",
    "df_cars_final_small_unique.loc[df_cars_final_small_unique['Original Equipment Manufacturer'] == 'BMW','url_model'] = 'https://logos-world.net/wp-content/uploads/2020/04/BMW-Logo.png'\n",
    "df_cars_final_small_unique.loc[df_cars_final_small_unique['Original Equipment Manufacturer'] == 'Datsun','url_model'] = 'https://logos-world.net/wp-content/uploads/2021/08/Datsun-Logo.png'\n",
    "df_cars_final_small_unique.loc[df_cars_final_small_unique['Original Equipment Manufacturer'] == 'Volvo','url_model'] = 'https://logos-world.net/wp-content/uploads/2021/06/Volvo-Logo.png'\n",
    "df_cars_final_small_unique.loc[df_cars_final_small_unique['Original Equipment Manufacturer'] == 'Nissan','url_model'] = 'https://logos-world.net/wp-content/uploads/2020/04/Nissan-Logo.png'\n",
    "df_cars_final_small_unique.loc[df_cars_final_small_unique['Original Equipment Manufacturer'] == 'Fiat','url_model'] = 'https://logos-world.net/wp-content/uploads/2021/03/Fiat-Logo.png'\n",
    "df_cars_final_small_unique.loc[df_cars_final_small_unique['Original Equipment Manufacturer'] == 'Chevrolet','url_model'] = 'https://logos-world.net/wp-content/uploads/2021/03/Chevrolet-Logo.png'\n",
    "df_cars_final_small_unique.loc[df_cars_final_small_unique['Original Equipment Manufacturer'] == 'Citroen','url_model'] = 'https://logos-world.net/wp-content/uploads/2021/09/Citroen-Logo.png'\n",
    "df_cars_final_small_unique.loc[df_cars_final_small_unique['Original Equipment Manufacturer'] == 'Jaguar','url_model'] = 'https://logos-world.net/wp-content/uploads/2021/06/Jaguar-Logo.png'\n",
    "df_cars_final_small_unique.loc[df_cars_final_small_unique['Original Equipment Manufacturer'] == 'Land Rover','url_model'] = 'https://logos-world.net/wp-content/uploads/2021/10/Land-Rover-Logo.png'\n",
    "df_cars_final_small_unique.loc[df_cars_final_small_unique['Original Equipment Manufacturer'] == 'Lexus','url_model'] = 'https://logos-world.net/wp-content/uploads/2021/10/Lexus-Logo.png'\n",
    "df_cars_final_small_unique.loc[df_cars_final_small_unique['Original Equipment Manufacturer'] == 'Hindustan Motors','url_model'] = 'https://logos-world.net/wp-content/uploads/2023/08/Hindustan-Motors-Logo.png'\n",
    "df_cars_final_small_unique.loc[df_cars_final_small_unique['Original Equipment Manufacturer'] == 'Isuzu','url_model'] = 'https://logos-world.net/wp-content/uploads/2021/09/Isuzu-Logo.png'\n",
    "df_cars_final_small_unique.loc[df_cars_final_small_unique['Original Equipment Manufacturer'] == 'Mahindra SsangYong','url_model'] = 'https://logos-world.net/wp-content/uploads/2022/12/Mahindra-Logo.png'\n",
    "df_cars_final_small_unique.loc[df_cars_final_small_unique['Original Equipment Manufacturer'] == 'Mitsubishi','url_model'] = 'https://logos-world.net/wp-content/uploads/2021/09/Mitsubishi-Logo.png'\n",
    "df_cars_final_small_unique.loc[df_cars_final_small_unique['Original Equipment Manufacturer'] == 'Mahindra Renault','url_model'] = 'https://logos-world.net/wp-content/uploads/2022/12/Mahindra-Logo.png'\n",
    "df_cars_final_small_unique.loc[df_cars_final_small_unique['Original Equipment Manufacturer'] == 'Mini','url_model'] = 'https://logos-world.net/wp-content/uploads/2021/04/Mini-Logo.png'"
   ]
  },
  {
   "cell_type": "code",
   "execution_count": 11,
   "id": "54cfdf18",
   "metadata": {},
   "outputs": [],
   "source": [
    "df_cars_final_small_unique.to_excel('all_cities_cars_with_url.xlsx', index=False)\n"
   ]
  },
  {
   "cell_type": "code",
   "execution_count": null,
   "id": "10b3b454",
   "metadata": {},
   "outputs": [],
   "source": []
  }
 ],
 "metadata": {
  "kernelspec": {
   "display_name": "base",
   "language": "python",
   "name": "python3"
  },
  "language_info": {
   "codemirror_mode": {
    "name": "ipython",
    "version": 3
   },
   "file_extension": ".py",
   "mimetype": "text/x-python",
   "name": "python",
   "nbconvert_exporter": "python",
   "pygments_lexer": "ipython3",
   "version": "3.12.2"
  }
 },
 "nbformat": 4,
 "nbformat_minor": 5
}
